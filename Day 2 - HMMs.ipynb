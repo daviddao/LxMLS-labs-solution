{
 "metadata": {
  "name": "",
  "signature": "sha256:ddc6e0092c7c80cf877de8ff98199fb563700dbe7735fb6f6d16e74247461471"
 },
 "nbformat": 3,
 "nbformat_minor": 0,
 "worksheets": [
  {
   "cells": [
    {
     "cell_type": "code",
     "collapsed": false,
     "input": [
      "# Importing the simple data sample\n",
      "import lxmls.readers.simple_sequence as ssr\n",
      "\n",
      "simple = ssr.SimpleSequence()"
     ],
     "language": "python",
     "metadata": {},
     "outputs": [],
     "prompt_number": 5
    },
    {
     "cell_type": "code",
     "collapsed": false,
     "input": [
      "print \"train\\n\", simple.train\n",
      "print \"test\\n\", simple.test\n",
      "\n",
      "print \"x\"\n",
      "for sequence in simple.train.seq_list:\n",
      "    print sequence.x\n",
      "\n",
      "print \"y\"\n",
      "for sequence in simple.train.seq_list:\n",
      "    print sequence.y"
     ],
     "language": "python",
     "metadata": {},
     "outputs": [
      {
       "output_type": "stream",
       "stream": "stdout",
       "text": [
        "train\n",
        "[walk/rainy walk/sunny shop/sunny clean/sunny , walk/rainy walk/rainy shop/rainy clean/sunny , walk/sunny shop/sunny shop/sunny clean/sunny ]\n",
        "test\n",
        "[walk/rainy walk/sunny shop/sunny clean/sunny , clean/sunny walk/sunny tennis/sunny walk/sunny ]\n",
        "x\n",
        "[0, 0, 1, 2]\n",
        "[0, 0, 1, 2]\n",
        "[0, 1, 1, 2]\n",
        "y\n",
        "[0, 1, 1, 1]\n",
        "[0, 0, 0, 1]\n",
        "[1, 1, 1, 1]\n"
       ]
      }
     ],
     "prompt_number": 6
    },
    {
     "cell_type": "code",
     "collapsed": false,
     "input": [
      "import lxmls.sequences.hmm as hmmc\n",
      "\n",
      "# Supervised training\n",
      "hmm = hmmc.HMM(simple.x_dict, simple.y_dict) \n",
      "hmm.train_supervised(simple.train)"
     ],
     "language": "python",
     "metadata": {},
     "outputs": [],
     "prompt_number": 7
    },
    {
     "cell_type": "code",
     "collapsed": false,
     "input": [
      "print \"Initial Probabilities:\\n\", hmm.initial_probs\n",
      "print \"Transition Probabilities:\\n\", hmm.transition_probs\n",
      "print \"Final Probabilities:\\n\", hmm.final_probs\n",
      "print \"Emission Probabilities:\\n\", hmm.emission_probs"
     ],
     "language": "python",
     "metadata": {},
     "outputs": [
      {
       "output_type": "stream",
       "stream": "stdout",
       "text": [
        "Initial Probabilities:\n",
        "[ 0.66666667  0.33333333]\n",
        "Transition Probabilities:\n",
        "[[ 0.5    0.   ]\n",
        " [ 0.5    0.625]]\n",
        "Final Probabilities:\n",
        "[ 0.     0.375]\n",
        "Emission Probabilities:\n",
        "[[ 0.75   0.25 ]\n",
        " [ 0.25   0.375]\n",
        " [ 0.     0.375]\n",
        " [ 0.     0.   ]]\n"
       ]
      }
     ],
     "prompt_number": 8
    },
    {
     "cell_type": "code",
     "collapsed": false,
     "input": [
      "# Calculate the Trellis Score (Log Probabilities) for the first sequence\n",
      "initial_scores, transition_scores, final_scores, emission_scores = hmm.compute_scores(simple.train.seq_list[0])"
     ],
     "language": "python",
     "metadata": {},
     "outputs": [],
     "prompt_number": 27
    },
    {
     "cell_type": "code",
     "collapsed": false,
     "input": [
      "print \"initial scores:\\n\", initial_scores\n",
      "print \"transition_scores:\\n\", transition_scores\n",
      "print \"final_scores:\\n\", final_scores\n",
      "print \"emission_scores:\\n\", emission_scores"
     ],
     "language": "python",
     "metadata": {},
     "outputs": [
      {
       "output_type": "stream",
       "stream": "stdout",
       "text": [
        "initial scores:\n",
        "[-0.40546511 -1.09861229]\n",
        "transition_scores:\n",
        "[[[-0.69314718        -inf]\n",
        "  [-0.69314718 -0.47000363]]\n",
        "\n",
        " [[-0.69314718        -inf]\n",
        "  [-0.69314718 -0.47000363]]\n",
        "\n",
        " [[-0.69314718        -inf]\n",
        "  [-0.69314718 -0.47000363]]]\n",
        "final_scores:\n",
        "[       -inf -0.98082925]\n",
        "emission_scores:\n",
        "[[-0.28768207 -1.38629436]\n",
        " [-0.28768207 -1.38629436]\n",
        " [-1.38629436 -0.98082925]\n",
        " [       -inf -0.98082925]]\n"
       ]
      }
     ],
     "prompt_number": 10
    },
    {
     "cell_type": "code",
     "collapsed": false,
     "input": [
      "# Log Sum\n",
      "from lxmls.sequences.log_domain import *"
     ],
     "language": "python",
     "metadata": {},
     "outputs": [],
     "prompt_number": 11
    },
    {
     "cell_type": "code",
     "collapsed": false,
     "input": [
      "# Calculating the Log Likelihood using the Forward Algorithm\n",
      "log_likelihood, forward = hmm.decoder.run_forward(initial_scores, transition_scores, final_scores, emission_scores)\n",
      "print 'Log-Likelihood =', log_likelihood\n",
      "log_likelihood, backward = hmm.decoder.run_backward(initial_scores, transition_scores, final_scores, emission_scores)\n",
      "print 'Log-Likelihood =', log_likelihood"
     ],
     "language": "python",
     "metadata": {},
     "outputs": [
      {
       "output_type": "stream",
       "stream": "stdout",
       "text": [
        "Log-Likelihood = -5.06823232601\n",
        "Log-Likelihood = -5.06823232601\n"
       ]
      }
     ],
     "prompt_number": 12
    },
    {
     "cell_type": "code",
     "collapsed": false,
     "input": [
      "# Computing the node posteriors for the first sample sequence\n",
      "initial_scores, transition_scores, final_scores, emission_scores = hmm.compute_scores(simple.train.seq_list[0])\n",
      "state_posteriors, _, _ = hmm.compute_posteriors(initial_scores, transition_scores, final_scores, emission_scores)\n",
      "\n",
      "print state_posteriors"
     ],
     "language": "python",
     "metadata": {},
     "outputs": [
      {
       "output_type": "stream",
       "stream": "stdout",
       "text": [
        "[[ 0.95738152  0.04261848]\n",
        " [ 0.75281282  0.24718718]\n",
        " [ 0.26184794  0.73815206]\n",
        " [ 0.          1.        ]]\n"
       ]
      }
     ],
     "prompt_number": 16
    },
    {
     "cell_type": "code",
     "collapsed": false,
     "input": [
      "y_pred = hmm.posterior_decode(simple.test.seq_list[0])\n",
      "print \"Prediction test 0:\", y_pred\n",
      "print \"Truth 0:\", simple.test.seq_list[0]"
     ],
     "language": "python",
     "metadata": {},
     "outputs": [
      {
       "output_type": "stream",
       "stream": "stdout",
       "text": [
        "Prediction test 0: walk/rainy walk/rainy shop/sunny clean/sunny \n",
        "Truth 0: walk/rainy walk/sunny shop/sunny clean/sunny \n"
       ]
      }
     ],
     "prompt_number": 24
    },
    {
     "cell_type": "code",
     "collapsed": false,
     "input": [
      "# This will cause problems because tennis was never seen!\n",
      "y_pred = hmm.posterior_decode(simple.test.seq_list[1])\n",
      "print \"Prediction test 1:\", y_pred\n",
      "print \"Truth 1:\", simple.test.seq_list[1]"
     ],
     "language": "python",
     "metadata": {},
     "outputs": [
      {
       "output_type": "stream",
       "stream": "stdout",
       "text": [
        "Prediction test 1: clean/sunny walk/sunny tennis/sunny walk/sunny \n",
        "Truth 1: clean/sunny walk/sunny tennis/sunny walk/sunny \n"
       ]
      }
     ],
     "prompt_number": 28
    },
    {
     "cell_type": "code",
     "collapsed": false,
     "input": [
      "# So we will smooth instead\n",
      "hmm.train_supervised(simple.train, smoothing=0.1)\n",
      "y_pred = hmm.posterior_decode(simple.test.seq_list[0])\n",
      "print \"Prediction test 0 with smoothing:\", y_pred\n",
      "print \"Truth test 0:\", simple.test.seq_list[0]\n",
      "\n",
      "y_pred = hmm.posterior_decode(simple.test.seq_list[1])\n",
      "print \"Prediction test 1 with smoothing:\", y_pred\n",
      "print \"Truth test 1:\", simple.test.seq_list[1]"
     ],
     "language": "python",
     "metadata": {},
     "outputs": [
      {
       "output_type": "stream",
       "stream": "stdout",
       "text": [
        "Prediction test 0 with smoothing: walk/rainy walk/rainy shop/sunny clean/sunny \n",
        "Truth test 0: walk/rainy walk/sunny shop/sunny clean/sunny \n",
        "Prediction test 1 with smoothing: clean/sunny walk/sunny tennis/sunny walk/sunny \n",
        "Truth test 1: clean/sunny walk/sunny tennis/sunny walk/sunny \n"
       ]
      }
     ],
     "prompt_number": 26
    },
    {
     "cell_type": "code",
     "collapsed": false,
     "input": [
      "y_pred, score = hmm.viterbi_decode(simple.test.seq_list[0])\n",
      "print \"Viterbi decoding Prediction test 0 with smoothing\"\n",
      "print y_pred, score\n",
      "print \"Truth test 0\"\n",
      "print simple.test.seq_list[0]\n",
      "\n",
      "y_pred, score = hmm.viterbi_decode(simple.test.seq_list[1])\n",
      "print \"Viterbi decoding Prediction test 1 with smoothing\"\n",
      "print y_pred, score\n",
      "print \"Truth test 1\"\n",
      "print simple.test.seq_list[1]"
     ],
     "language": "python",
     "metadata": {},
     "outputs": [
      {
       "output_type": "stream",
       "stream": "stdout",
       "text": [
        "Viterbi decoding Prediction test 0 with smoothing\n",
        "walk/rainy walk/rainy shop/sunny clean/sunny  -6.02050124698\n",
        "Truth test 0\n",
        "walk/rainy walk/sunny shop/sunny clean/sunny \n",
        "Viterbi decoding Prediction test 1 with smoothing\n",
        "clean/sunny walk/sunny tennis/sunny walk/sunny  -11.713974074\n",
        "Truth test 1\n",
        "clean/sunny walk/sunny tennis/sunny walk/sunny \n"
       ]
      }
     ],
     "prompt_number": 29
    },
    {
     "cell_type": "code",
     "collapsed": false,
     "input": [
      "import lxmls.readers.pos_corpus as pcc\n",
      "import lxmls.sequences.confusion_matrix as cm\n",
      "\n",
      "corpus = pcc.PostagCorpus()\n",
      "train_seq = corpus.read_sequence_list_conll(\"data/train-02-21.conll\",max_sent_len=15,max_nr_sent=1000)\n",
      "test_seq = corpus.read_sequence_list_conll(\"data/test-23.conll\",max_sent_len=15,max_nr_sent=1000)\n",
      "dev_seq = corpus.read_sequence_list_conll(\"data/dev-22.conll\",max_sent_len=15,max_nr_sent=1000)\n",
      "hmm = hmmc.HMM(corpus.word_dict, corpus.tag_dict)\n",
      "hmm.train_supervised(train_seq)\n",
      "hmm.print_transition_matrix()\n",
      "\n",
      "viterbi_pred_train = hmm.viterbi_decode_corpus(train_seq)\n",
      "posterior_pred_train = hmm.posterior_decode_corpus(train_seq)\n",
      "eval_viterbi_train =   hmm.evaluate_corpus(train_seq, viterbi_pred_train)\n",
      "eval_posterior_train = hmm.evaluate_corpus(train_seq, posterior_pred_train)\n",
      "print \"Train Set Accuracy: Posterior Decode %.3f, Viterbi Decode: %.3f\"%(eval_posterior_train,eval_viterbi_train)\n",
      "\n",
      "viterbi_pred_test = hmm.viterbi_decode_corpus(test_seq)\n",
      "posterior_pred_test = hmm.posterior_decode_corpus(test_seq)\n",
      "eval_viterbi_test =   hmm.evaluate_corpus(test_seq,viterbi_pred_test)\n",
      "eval_posterior_test = hmm.evaluate_corpus(test_seq,posterior_pred_test)\n",
      "print \"Test Set Accuracy: Posterior Decode %.3f, Viterbi Decode: %.3f\"%(eval_posterior_test,eval_viterbi_test)\n",
      "\n",
      "best_smothing = hmm.pick_best_smoothing(train_seq, dev_seq, [10,1,0.1,0])\n",
      "\n",
      "\n",
      "hmm.train_supervised(train_seq, smoothing=best_smothing)\n",
      "viterbi_pred_test = hmm.viterbi_decode_corpus(test_seq)\n",
      "posterior_pred_test = hmm.posterior_decode_corpus(test_seq)\n",
      "eval_viterbi_test =   hmm.evaluate_corpus(test_seq, viterbi_pred_test)\n",
      "eval_posterior_test = hmm.evaluate_corpus(test_seq, posterior_pred_test)\n",
      "print \"Best Smoothing %f --  Test Set Accuracy: Posterior Decode %.3f, Viterbi Decode: %.3f\"%(best_smothing,eval_posterior_test,eval_viterbi_test)\n",
      "\n",
      "confusion_matrix = cm.build_confusion_matrix(test_seq.seq_list, viterbi_pred_test, \n",
      "                                             len(corpus.tag_dict), hmm.get_num_states())\n",
      "\n",
      "cm.plot_confusion_bar_graph(confusion_matrix, corpus.tag_dict, \n",
      "                            range(hmm.get_num_states()), 'Confusion matrix')\n"
     ],
     "language": "python",
     "metadata": {},
     "outputs": [
      {
       "output_type": "stream",
       "stream": "stdout",
       "text": [
        "Train Set Accuracy: Posterior Decode 0.985, Viterbi Decode: 0.985\n",
        "Test Set Accuracy: Posterior Decode 0.350, Viterbi Decode: 0.509"
       ]
      },
      {
       "output_type": "stream",
       "stream": "stdout",
       "text": [
        "\n",
        "Smoothing 10.000000 --  Train Set Accuracy: Posterior Decode 0.731, Viterbi Decode: 0.691"
       ]
      },
      {
       "output_type": "stream",
       "stream": "stdout",
       "text": [
        "\n",
        "Smoothing 10.000000 -- Test Set Accuracy: Posterior Decode 0.712, Viterbi Decode: 0.675"
       ]
      },
      {
       "output_type": "stream",
       "stream": "stdout",
       "text": [
        "\n",
        "Smoothing 1.000000 --  Train Set Accuracy: Posterior Decode 0.887, Viterbi Decode: 0.865"
       ]
      },
      {
       "output_type": "stream",
       "stream": "stdout",
       "text": [
        "\n",
        "Smoothing 1.000000 -- Test Set Accuracy: Posterior Decode 0.818, Viterbi Decode: 0.792"
       ]
      },
      {
       "output_type": "stream",
       "stream": "stdout",
       "text": [
        "\n",
        "Smoothing 0.100000 --  Train Set Accuracy: Posterior Decode 0.968, Viterbi Decode: 0.965"
       ]
      },
      {
       "output_type": "stream",
       "stream": "stdout",
       "text": [
        "\n",
        "Smoothing 0.100000 -- Test Set Accuracy: Posterior Decode 0.851, Viterbi Decode: 0.842"
       ]
      },
      {
       "output_type": "stream",
       "stream": "stdout",
       "text": [
        "\n",
        "Smoothing 0.000000 --  Train Set Accuracy: Posterior Decode 0.985, Viterbi Decode: 0.985"
       ]
      },
      {
       "output_type": "stream",
       "stream": "stdout",
       "text": [
        "\n",
        "Smoothing 0.000000 -- Test Set Accuracy: Posterior Decode 0.370, Viterbi Decode: 0.526"
       ]
      },
      {
       "output_type": "stream",
       "stream": "stdout",
       "text": [
        "\n",
        "Best Smoothing 0.100000 --  Test Set Accuracy: Posterior Decode 0.837, Viterbi Decode: 0.827"
       ]
      },
      {
       "output_type": "stream",
       "stream": "stdout",
       "text": [
        "\n"
       ]
      }
     ],
     "prompt_number": 32
    },
    {
     "cell_type": "code",
     "collapsed": false,
     "input": [],
     "language": "python",
     "metadata": {},
     "outputs": []
    }
   ],
   "metadata": {}
  }
 ]
}